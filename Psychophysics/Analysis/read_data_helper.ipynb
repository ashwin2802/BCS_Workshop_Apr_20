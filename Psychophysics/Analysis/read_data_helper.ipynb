{
 "cells": [
  {
   "cell_type": "code",
   "execution_count": 75,
   "metadata": {},
   "outputs": [],
   "source": [
    "import numpy as np\n",
    "import matplotlib.pyplot as plt\n",
    "import pandas as pd"
   ]
  },
  {
   "cell_type": "code",
   "execution_count": 76,
   "metadata": {},
   "outputs": [],
   "source": [
    "data = pd.read_csv(\"data/data.csv\", sep=\",\").values\n",
    "exp_1_data = pd.read_csv(\"data/\" + data[0, 4], sep=\" \", header=None).values\n",
    "exp_2_data = pd.read_csv(\"data/\" + data[0, 5], sep=\" \", header=None).values\n",
    "exp_3_data = pd.read_csv(\"data/\" + data[0, 6], sep=\" \", header=None).values\n",
    ""
   ]
  },
  {
   "cell_type": "code",
   "execution_count": 77,
   "metadata": {},
   "outputs": [
    {
     "output_type": "stream",
     "name": "stdout",
     "text": "[['block1' 18 1 1672]\n ['block1' 6 1 430]\n ['block1' 112 3 4000]\n ['block1' 112 3 4000]\n ['block1' 6 1 515]\n ['block1' 124 3 4000]\n ['block1' 24 1 511]\n ['block1' 12 1 738]\n ['block1' 18 1 556]\n ['block1' 6 1 358]\n ['block1' 6 1 318]\n ['block1' 24 1 678]\n ['block1' 12 1 672]\n ['block1' 112 3 4000]\n ['block1' 12 1 564]\n ['block1' 106 3 4000]\n ['block1' 18 1 842]\n ['block1' 6 1 814]\n ['block1' 106 3 4000]\n ['block1' 112 3 4000]\n ['block1' 24 1 371]\n ['block1' 18 1 423]\n ['block1' 6 1 383]\n ['block1' 24 1 552]\n ['block1' 18 1 993]\n ['block1' 106 3 4000]\n ['block1' 18 1 630]\n ['block1' 6 1 448]\n ['block1' 12 1 1067]\n ['block1' 118 3 4000]\n ['block1' 18 1 1063]\n ['block1' 124 3 4000]\n ['block1' 6 1 486]\n ['block1' 124 3 4000]\n ['block1' 12 1 391]\n ['block1' 106 3 4000]\n ['block1' 24 1 460]\n ['block1' 24 1 506]\n ['block1' 118 3 4000]\n ['block1' 18 1 412]\n ['block1' 18 1 384]\n ['block1' 12 1 373]\n ['block1' 124 3 4000]\n ['block1' 24 1 568]\n ['block1' 12 1 692]\n ['block1' 6 1 426]\n ['block1' 12 1 409]\n ['block1' 24 1 1070]\n ['block1' 18 1 415]\n ['block1' 112 3 4000]\n ['block1' 6 1 430]\n ['block1' 106 3 4000]\n ['block1' 24 1 715]\n ['block1' 124 3 4000]\n ['block1' 118 3 4000]\n ['block1' 118 3 4000]\n ['block1' 12 1 411]\n ['block1' 12 1 518]\n ['block1' 118 3 4000]\n ['block1' 24 1 710]]\n\n[['block1' 12 1 1141]\n ['block1' 6 1 542]\n ['block1' 18 1 573]\n ['block1' 12 1 708]\n ['block1' 18 1 1089]\n ['block1' 12 1 1068]\n ['block1' 12 1 825]\n ['block1' 18 1 535]\n ['block1' 6 1 762]\n ['block1' 24 1 535]\n ['block1' 118 3 4000]\n ['block1' 12 1 666]\n ['block1' 18 1 1510]\n ['block1' 106 3 4000]\n ['block1' 24 1 675]\n ['block1' 118 3 4000]\n ['block1' 24 1 546]\n ['block1' 6 1 629]\n ['block1' 112 3 4000]\n ['block1' 24 1 531]\n ['block1' 106 3 4000]\n ['block1' 6 1 430]\n ['block1' 106 3 4000]\n ['block1' 18 1 581]\n ['block1' 24 1 466]\n ['block1' 12 1 906]\n ['block1' 12 1 1670]\n ['block1' 124 3 4000]\n ['block1' 18 1 792]\n ['block1' 112 3 4000]\n ['block1' 124 3 4000]\n ['block1' 118 3 4000]\n ['block1' 24 1 679]\n ['block1' 24 1 822]\n ['block1' 106 3 4000]\n ['block1' 124 3 4000]\n ['block1' 6 1 528]\n ['block1' 124 3 4000]\n ['block1' 24 1 448]\n ['block1' 24 1 435]\n ['block1' 12 1 535]\n ['block1' 6 1 437]\n ['block1' 24 1 411]\n ['block1' 6 1 426]\n ['block1' 112 3 4000]\n ['block1' 118 3 4000]\n ['block1' 112 3 4000]\n ['block1' 18 1 593]\n ['block1' 12 1 453]\n ['block1' 6 1 444]\n ['block1' 6 1 435]\n ['block1' 106 3 4000]\n ['block1' 118 3 4000]\n ['block1' 6 1 353]\n ['block1' 124 3 4000]\n ['block1' 112 3 4000]\n ['block1' 18 1 563]\n ['block1' 12 1 839]\n ['block1' 18 1 433]\n ['block1' 18 1 792]]\n\n[['block1' 12 1 1129]\n ['block1' 12 1 1647]\n ['block1' 12 1 979]\n ['block1' 124 3 4000]\n ['block1' 6 1 449]\n ['block1' 12 1 970]\n ['block1' 18 1 1172]\n ['block1' 18 1 1114]\n ['block1' 118 3 4000]\n ['block1' 24 1 572]\n ['block1' 124 3 4000]\n ['block1' 106 3 4000]\n ['block1' 18 1 1036]\n ['block1' 118 3 4000]\n ['block1' 12 1 1549]\n ['block1' 106 3 4000]\n ['block1' 6 1 761]\n ['block1' 18 1 764]\n ['block1' 18 1 640]\n ['block1' 24 1 812]\n ['block1' 118 3 4000]\n ['block1' 18 1 508]\n ['block1' 112 3 4000]\n ['block1' 12 1 625]\n ['block1' 6 1 446]\n ['block1' 124 3 4000]\n ['block1' 12 1 540]\n ['block1' 18 1 669]\n ['block1' 12 1 447]\n ['block1' 6 1 699]\n ['block1' 6 1 370]\n ['block1' 6 1 405]\n ['block1' 106 3 4000]\n ['block1' 24 1 429]\n ['block1' 118 3 4000]\n ['block1' 118 3 4000]\n ['block1' 24 1 801]\n ['block1' 24 1 1148]\n ['block1' 24 1 714]\n ['block1' 124 3 4000]\n ['block1' 112 3 4000]\n ['block1' 106 3 4000]\n ['block1' 106 3 4000]\n ['block1' 112 3 4000]\n ['block1' 18 1 518]\n ['block1' 124 3 4000]\n ['block1' 12 1 1039]\n ['block1' 12 1 632]\n ['block1' 24 1 507]\n ['block1' 24 1 394]\n ['block1' 112 3 4000]\n ['block1' 112 3 4000]\n ['block1' 6 1 438]\n ['block1' 6 1 870]\n ['block1' 18 1 859]\n ['block1' 24 1 747]\n ['block1' 24 1 735]\n ['block1' 18 1 581]\n ['block1' 6 1 400]\n ['block1' 6 1 487]]\n"
    }
   ],
   "source": [
    "# Note that column index = 1 gives the number of items\n",
    "# column index = 3 gives the reaction time in milliseconds\n",
    "print(exp_1_data)\n",
    "print()\n",
    "print(exp_2_data)\n",
    "print()\n",
    "print(exp_3_data)"
   ]
  },
  {
   "cell_type": "code",
   "execution_count": 78,
   "metadata": {},
   "outputs": [
    {
     "output_type": "stream",
     "name": "stdout",
     "text": "Item size: 18 and its respective RT: 1672 ms\n"
    }
   ],
   "source": [
    "print(\"Item size:\", exp_1_data[0, 1], \"and its respective RT:\", exp_1_data[0, 3], \"ms\")"
   ]
  },
  {
   "cell_type": "code",
   "execution_count": 79,
   "metadata": {},
   "outputs": [
    {
     "output_type": "stream",
     "name": "stdout",
     "text": "[['block1' 12 1 1141]\n ['block1' 6 1 542]\n ['block1' 18 1 573]\n ['block1' 12 1 708]\n ['block1' 18 1 1089]\n ['block1' 12 1 1068]\n ['block1' 12 1 825]\n ['block1' 18 1 535]\n ['block1' 6 1 762]\n ['block1' 24 1 535]\n ['block1' 118 3 4000]\n ['block1' 12 1 666]\n ['block1' 18 1 1510]\n ['block1' 106 3 4000]\n ['block1' 24 1 675]\n ['block1' 118 3 4000]\n ['block1' 24 1 546]\n ['block1' 6 1 629]\n ['block1' 112 3 4000]\n ['block1' 24 1 531]\n ['block1' 106 3 4000]\n ['block1' 6 1 430]\n ['block1' 106 3 4000]\n ['block1' 18 1 581]\n ['block1' 24 1 466]\n ['block1' 12 1 906]\n ['block1' 12 1 1670]\n ['block1' 124 3 4000]\n ['block1' 18 1 792]\n ['block1' 112 3 4000]\n ['block1' 124 3 4000]\n ['block1' 118 3 4000]\n ['block1' 24 1 679]\n ['block1' 24 1 822]\n ['block1' 106 3 4000]\n ['block1' 124 3 4000]\n ['block1' 6 1 528]\n ['block1' 124 3 4000]\n ['block1' 24 1 448]\n ['block1' 24 1 435]\n ['block1' 12 1 535]\n ['block1' 6 1 437]\n ['block1' 24 1 411]\n ['block1' 6 1 426]\n ['block1' 112 3 4000]\n ['block1' 118 3 4000]\n ['block1' 112 3 4000]\n ['block1' 18 1 593]\n ['block1' 12 1 453]\n ['block1' 6 1 444]\n ['block1' 6 1 435]\n ['block1' 106 3 4000]\n ['block1' 118 3 4000]\n ['block1' 6 1 353]\n ['block1' 124 3 4000]\n ['block1' 112 3 4000]\n ['block1' 18 1 563]\n ['block1' 12 1 839]\n ['block1' 18 1 433]\n ['block1' 18 1 792]]\nItem size: 12 and its respective RT: 1141 ms\n"
    }
   ],
   "source": [
    "print(exp_2_data)\n",
    "print(\"Item size:\", exp_2_data[0, 1], \"and its respective RT:\", exp_2_data[0, 3], \"ms\")"
   ]
  },
  {
   "cell_type": "code",
   "execution_count": 80,
   "metadata": {},
   "outputs": [],
   "source": [
    "def split_exp(data):\n",
    "    blocks = [[] for i in range(4)]\n",
    "    empty = [[] for i in range(4)]\n",
    "\n",
    "    for val in data:\n",
    "        if(val[1] < 100):\n",
    "            blocks[int((val[1]-6)/6)].append(val[1:])\n",
    "        else:\n",
    "            empty[int((val[1]-106)/6)].append(val[1:])\n",
    "\n",
    "    return blocks, empty"
   ]
  },
  {
   "cell_type": "code",
   "execution_count": 81,
   "metadata": {},
   "outputs": [],
   "source": [
    "def getData(data):\n",
    "    statuses = []\n",
    "    rts = []\n",
    "    for i in range(4):\n",
    "        status = []\n",
    "        rt = []\n",
    "        for val in data[i]:\n",
    "            status.append(val[1])\n",
    "            rt.append(val[2])\n",
    "        statuses.append(status)\n",
    "        rts.append(rt)\n",
    "    return statuses, rts"
   ]
  },
  {
   "cell_type": "code",
   "execution_count": 88,
   "metadata": {},
   "outputs": [],
   "source": [
    "def getMode(data):\n",
    "    for i in range(4):\n",
    "        bins = [i for i in range(0, 4000, 400)]\n",
    "        labels = ['{}-{}'.format(x, y-.1) for x,  y in zip(bins[:], bins[1:])]\n",
    "        sr = pd.Series(data[i])\n",
    "        ncut = pd.cut(sr, bins=bins, labels=labels, right=False)\n",
    "        freq = lambda x: len(x) / x.sum()\n",
    "        freq.__name__ = 'freq'\n",
    "        pd.concat([ncut, sr], axis=1).groupby(0).agg(['size', 'std', 'mean', freq])"
   ]
  },
  {
   "cell_type": "code",
   "execution_count": 83,
   "metadata": {},
   "outputs": [],
   "source": [
    "def getMeans(data):\n",
    "    e_data, blanx = split_exp(data)\n",
    "    statuses, rts = getData(e_data)\n",
    "    blanx_stat, blanx_rts = getData(blanx)\n",
    "    # print(statuses, rts);\n",
    "    exp1_means = []\n",
    "    exp1_blank_means = []\n",
    "    for i in range(4):\n",
    "        exp1_means.append(np.average(rts[i]))\n",
    "        exp1_blank_means.append(np.average(blanx_rts[i]))\n",
    "    return exp1_means\n",
    "\n",
    "\n"
   ]
  },
  {
   "cell_type": "code",
   "execution_count": 84,
   "metadata": {},
   "outputs": [
    {
     "output_type": "stream",
     "name": "stdout",
     "text": "10 10\n5 5\n10 10\n5 5\n10 10\n5 5\n10 10\n5 5\n10 10\n5 5\n10 10\n5 5\n10 10\n5 5\n10 10\n5 5\n10 10\n5 5\n10 10\n5 5\n10 10\n5 5\n10 10\n5 5\n[460.8, 583.5, 739.0, 614.1] [498.6, 881.1, 746.1, 554.8] [532.5, 955.7, 786.1, 685.9]\n"
    }
   ],
   "source": [
    "exp1_means = getMeans(exp_1_data)\n",
    "exp2_means = getMeans(exp_2_data)\n",
    "exp3_means = getMeans(exp_3_data)\n",
    "print(exp1_means, exp2_means, exp3_means)"
   ]
  },
  {
   "cell_type": "code",
   "execution_count": 89,
   "metadata": {},
   "outputs": [
    {
     "output_type": "error",
     "ename": "Exception",
     "evalue": "Data must be 1-dimensional",
     "traceback": [
      "\u001b[0;31m---------------------------------------------------------------------------\u001b[0m",
      "\u001b[0;31mException\u001b[0m                                 Traceback (most recent call last)",
      "\u001b[0;32m<ipython-input-89-9641cb2a8938>\u001b[0m in \u001b[0;36m<module>\u001b[0;34m\u001b[0m\n\u001b[0;32m----> 1\u001b[0;31m \u001b[0mgetMode\u001b[0m\u001b[0;34m(\u001b[0m\u001b[0mexp_1_data\u001b[0m\u001b[0;34m)\u001b[0m\u001b[0;34m\u001b[0m\u001b[0;34m\u001b[0m\u001b[0m\n\u001b[0m\u001b[1;32m      2\u001b[0m \u001b[0mgetMode\u001b[0m\u001b[0;34m(\u001b[0m\u001b[0mexp_2_data\u001b[0m\u001b[0;34m)\u001b[0m\u001b[0;34m\u001b[0m\u001b[0;34m\u001b[0m\u001b[0m\n\u001b[1;32m      3\u001b[0m \u001b[0mgetMode\u001b[0m\u001b[0;34m(\u001b[0m\u001b[0mexp_3_data\u001b[0m\u001b[0;34m)\u001b[0m\u001b[0;34m\u001b[0m\u001b[0;34m\u001b[0m\u001b[0m\n",
      "\u001b[0;32m<ipython-input-88-a8710f6935f2>\u001b[0m in \u001b[0;36mgetMode\u001b[0;34m(data)\u001b[0m\n\u001b[1;32m      2\u001b[0m     \u001b[0mbins\u001b[0m \u001b[0;34m=\u001b[0m \u001b[0;34m[\u001b[0m\u001b[0mi\u001b[0m \u001b[0;32mfor\u001b[0m \u001b[0mi\u001b[0m \u001b[0;32min\u001b[0m \u001b[0mrange\u001b[0m\u001b[0;34m(\u001b[0m\u001b[0;36m0\u001b[0m\u001b[0;34m,\u001b[0m \u001b[0;36m4000\u001b[0m\u001b[0;34m,\u001b[0m \u001b[0;36m400\u001b[0m\u001b[0;34m)\u001b[0m\u001b[0;34m]\u001b[0m\u001b[0;34m\u001b[0m\u001b[0;34m\u001b[0m\u001b[0m\n\u001b[1;32m      3\u001b[0m     \u001b[0mlabels\u001b[0m \u001b[0;34m=\u001b[0m \u001b[0;34m[\u001b[0m\u001b[0;34m'{}-{}'\u001b[0m\u001b[0;34m.\u001b[0m\u001b[0mformat\u001b[0m\u001b[0;34m(\u001b[0m\u001b[0mx\u001b[0m\u001b[0;34m,\u001b[0m \u001b[0my\u001b[0m\u001b[0;34m-\u001b[0m\u001b[0;36m.1\u001b[0m\u001b[0;34m)\u001b[0m \u001b[0;32mfor\u001b[0m \u001b[0mx\u001b[0m\u001b[0;34m,\u001b[0m  \u001b[0my\u001b[0m \u001b[0;32min\u001b[0m \u001b[0mzip\u001b[0m\u001b[0;34m(\u001b[0m\u001b[0mbins\u001b[0m\u001b[0;34m[\u001b[0m\u001b[0;34m:\u001b[0m\u001b[0;34m]\u001b[0m\u001b[0;34m,\u001b[0m \u001b[0mbins\u001b[0m\u001b[0;34m[\u001b[0m\u001b[0;36m1\u001b[0m\u001b[0;34m:\u001b[0m\u001b[0;34m]\u001b[0m\u001b[0;34m)\u001b[0m\u001b[0;34m]\u001b[0m\u001b[0;34m\u001b[0m\u001b[0;34m\u001b[0m\u001b[0m\n\u001b[0;32m----> 4\u001b[0;31m     \u001b[0msr\u001b[0m \u001b[0;34m=\u001b[0m \u001b[0mpd\u001b[0m\u001b[0;34m.\u001b[0m\u001b[0mSeries\u001b[0m\u001b[0;34m(\u001b[0m\u001b[0mdata\u001b[0m\u001b[0;34m)\u001b[0m\u001b[0;34m\u001b[0m\u001b[0;34m\u001b[0m\u001b[0m\n\u001b[0m\u001b[1;32m      5\u001b[0m     \u001b[0mncut\u001b[0m \u001b[0;34m=\u001b[0m \u001b[0mpd\u001b[0m\u001b[0;34m.\u001b[0m\u001b[0mcut\u001b[0m\u001b[0;34m(\u001b[0m\u001b[0msr\u001b[0m\u001b[0;34m,\u001b[0m \u001b[0mbins\u001b[0m\u001b[0;34m=\u001b[0m\u001b[0mbins\u001b[0m\u001b[0;34m,\u001b[0m \u001b[0mlabels\u001b[0m\u001b[0;34m=\u001b[0m\u001b[0mlabels\u001b[0m\u001b[0;34m,\u001b[0m \u001b[0mright\u001b[0m\u001b[0;34m=\u001b[0m\u001b[0;32mFalse\u001b[0m\u001b[0;34m)\u001b[0m\u001b[0;34m\u001b[0m\u001b[0;34m\u001b[0m\u001b[0m\n\u001b[1;32m      6\u001b[0m     \u001b[0mfreq\u001b[0m \u001b[0;34m=\u001b[0m \u001b[0;32mlambda\u001b[0m \u001b[0mx\u001b[0m\u001b[0;34m:\u001b[0m \u001b[0mlen\u001b[0m\u001b[0;34m(\u001b[0m\u001b[0mx\u001b[0m\u001b[0;34m)\u001b[0m \u001b[0;34m/\u001b[0m \u001b[0mx\u001b[0m\u001b[0;34m.\u001b[0m\u001b[0msum\u001b[0m\u001b[0;34m(\u001b[0m\u001b[0;34m)\u001b[0m\u001b[0;34m\u001b[0m\u001b[0;34m\u001b[0m\u001b[0m\n",
      "\u001b[0;32m/usr/local/lib/python3.6/dist-packages/pandas/core/series.py\u001b[0m in \u001b[0;36m__init__\u001b[0;34m(self, data, index, dtype, name, copy, fastpath)\u001b[0m\n\u001b[1;32m    312\u001b[0m                     \u001b[0mdata\u001b[0m \u001b[0;34m=\u001b[0m \u001b[0mdata\u001b[0m\u001b[0;34m.\u001b[0m\u001b[0mcopy\u001b[0m\u001b[0;34m(\u001b[0m\u001b[0;34m)\u001b[0m\u001b[0;34m\u001b[0m\u001b[0;34m\u001b[0m\u001b[0m\n\u001b[1;32m    313\u001b[0m             \u001b[0;32melse\u001b[0m\u001b[0;34m:\u001b[0m\u001b[0;34m\u001b[0m\u001b[0;34m\u001b[0m\u001b[0m\n\u001b[0;32m--> 314\u001b[0;31m                 \u001b[0mdata\u001b[0m \u001b[0;34m=\u001b[0m \u001b[0msanitize_array\u001b[0m\u001b[0;34m(\u001b[0m\u001b[0mdata\u001b[0m\u001b[0;34m,\u001b[0m \u001b[0mindex\u001b[0m\u001b[0;34m,\u001b[0m \u001b[0mdtype\u001b[0m\u001b[0;34m,\u001b[0m \u001b[0mcopy\u001b[0m\u001b[0;34m,\u001b[0m \u001b[0mraise_cast_failure\u001b[0m\u001b[0;34m=\u001b[0m\u001b[0;32mTrue\u001b[0m\u001b[0;34m)\u001b[0m\u001b[0;34m\u001b[0m\u001b[0;34m\u001b[0m\u001b[0m\n\u001b[0m\u001b[1;32m    315\u001b[0m \u001b[0;34m\u001b[0m\u001b[0m\n\u001b[1;32m    316\u001b[0m                 \u001b[0mdata\u001b[0m \u001b[0;34m=\u001b[0m \u001b[0mSingleBlockManager\u001b[0m\u001b[0;34m(\u001b[0m\u001b[0mdata\u001b[0m\u001b[0;34m,\u001b[0m \u001b[0mindex\u001b[0m\u001b[0;34m,\u001b[0m \u001b[0mfastpath\u001b[0m\u001b[0;34m=\u001b[0m\u001b[0;32mTrue\u001b[0m\u001b[0;34m)\u001b[0m\u001b[0;34m\u001b[0m\u001b[0;34m\u001b[0m\u001b[0m\n",
      "\u001b[0;32m/usr/local/lib/python3.6/dist-packages/pandas/core/internals/construction.py\u001b[0m in \u001b[0;36msanitize_array\u001b[0;34m(data, index, dtype, copy, raise_cast_failure)\u001b[0m\n\u001b[1;32m    727\u001b[0m     \u001b[0;32melif\u001b[0m \u001b[0msubarr\u001b[0m\u001b[0;34m.\u001b[0m\u001b[0mndim\u001b[0m \u001b[0;34m>\u001b[0m \u001b[0;36m1\u001b[0m\u001b[0;34m:\u001b[0m\u001b[0;34m\u001b[0m\u001b[0;34m\u001b[0m\u001b[0m\n\u001b[1;32m    728\u001b[0m         \u001b[0;32mif\u001b[0m \u001b[0misinstance\u001b[0m\u001b[0;34m(\u001b[0m\u001b[0mdata\u001b[0m\u001b[0;34m,\u001b[0m \u001b[0mnp\u001b[0m\u001b[0;34m.\u001b[0m\u001b[0mndarray\u001b[0m\u001b[0;34m)\u001b[0m\u001b[0;34m:\u001b[0m\u001b[0;34m\u001b[0m\u001b[0;34m\u001b[0m\u001b[0m\n\u001b[0;32m--> 729\u001b[0;31m             \u001b[0;32mraise\u001b[0m \u001b[0mException\u001b[0m\u001b[0;34m(\u001b[0m\u001b[0;34m\"Data must be 1-dimensional\"\u001b[0m\u001b[0;34m)\u001b[0m\u001b[0;34m\u001b[0m\u001b[0;34m\u001b[0m\u001b[0m\n\u001b[0m\u001b[1;32m    730\u001b[0m         \u001b[0;32melse\u001b[0m\u001b[0;34m:\u001b[0m\u001b[0;34m\u001b[0m\u001b[0;34m\u001b[0m\u001b[0m\n\u001b[1;32m    731\u001b[0m             \u001b[0msubarr\u001b[0m \u001b[0;34m=\u001b[0m \u001b[0mcom\u001b[0m\u001b[0;34m.\u001b[0m\u001b[0masarray_tuplesafe\u001b[0m\u001b[0;34m(\u001b[0m\u001b[0mdata\u001b[0m\u001b[0;34m,\u001b[0m \u001b[0mdtype\u001b[0m\u001b[0;34m=\u001b[0m\u001b[0mdtype\u001b[0m\u001b[0;34m)\u001b[0m\u001b[0;34m\u001b[0m\u001b[0;34m\u001b[0m\u001b[0m\n",
      "\u001b[0;31mException\u001b[0m: Data must be 1-dimensional"
     ]
    }
   ],
   "source": [
    "getMode(exp_1_data)\n",
    "getMode(exp_2_data)\n",
    "getMode(exp_3_data)"
   ]
  },
  {
   "cell_type": "code",
   "execution_count": null,
   "metadata": {},
   "outputs": [],
   "source": []
  }
 ],
 "metadata": {
  "kernelspec": {
   "display_name": "Python 3",
   "language": "python",
   "name": "python3"
  },
  "language_info": {
   "codemirror_mode": {
    "name": "ipython",
    "version": 3
   },
   "file_extension": ".py",
   "mimetype": "text/x-python",
   "name": "python",
   "nbconvert_exporter": "python",
   "pygments_lexer": "ipython3",
   "version": "3.6.9-final"
  }
 },
 "nbformat": 4,
 "nbformat_minor": 2
}