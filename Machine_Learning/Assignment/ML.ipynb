{
  "nbformat": 4,
  "nbformat_minor": 0,
  "metadata": {
    "colab": {
      "name": "Copy of ML.ipynb",
      "provenance": [],
      "collapsed_sections": [
        "UkJr6Lh9aIem",
        "NlX1GE9f84dN"
      ]
    },
    "kernelspec": {
      "name": "python3",
      "display_name": "Python 3"
    },
    "accelerator": "GPU"
  },
  "cells": [
    {
      "cell_type": "markdown",
      "metadata": {
        "id": "xgTHW1jTc94u",
        "colab_type": "text"
      },
      "source": [
        "<table class=\"tfo-notebook-buttons\" align=\"left\">\n",
        "  <td>\n",
        "    <a target=\"_blank\" href=\"https://colab.research.google.com/github/bcs-iitk/BCS_Workshop_Apr_20/blob/master/Machine_Learning/Assignment/ML.ipynb\"><img src=\"https://www.tensorflow.org/images/colab_logo_32px.png\" />Run in Google Colab</a>\n",
        "  </td>\n",
        "  <td>\n",
        "    <a target=\"_blank\" href=\"https://github.com/bcs-iitk/BCS_Workshop_Apr_20/blob/master/Machine_Learning/Assignment/ML.ipynb\"><img src=\"https://www.tensorflow.org/images/GitHub-Mark-32px.png\" />View source on GitHub</a>\n",
        "  </td>\n",
        "  <td>\n",
        "    <a href=\"https://github.com/bcs-iitk/BCS_Workshop_Apr_20/raw/master/Machine_Learning/Assignment/ML.ipynb\"><img src=\"https://www.tensorflow.org/images/download_logo_32px.png\" />Download notebook</a>\n",
        "  </td>\n",
        "</table>"
      ]
    },
    {
      "cell_type": "code",
      "metadata": {
        "id": "BiU-x0ujcRkE",
        "colab_type": "code",
        "colab": {}
      },
      "source": [
        "# Copyright (c) 2020 Brain and Cognitive Society, IIT Kanpur [ BCS @IITK ]\n",
        "# Copyright under MIT License, must reference https://github.com/bcs-iitk/BCS_Workshop_Apr_20 if used anywhere else.\n",
        "# Author: Shashi Kant (http://shashikg.github.io/)"
      ],
      "execution_count": 0,
      "outputs": []
    },
    {
      "cell_type": "markdown",
      "metadata": {
        "id": "-6GMP27JdNG2",
        "colab_type": "text"
      },
      "source": [
        "\n",
        "\n",
        "> Note: Do not forget to click on **Copy to Drive** in Google Colab to save a copy of this assignment.\n",
        "\n",
        "![copy2drive](https://github.com/bcs-iitk/BCS_Workshop_Apr_20/raw/master/Machine_Learning/Assignment/copy2drive.png)\n",
        "\n"
      ]
    },
    {
      "cell_type": "markdown",
      "metadata": {
        "id": "UWRTh7z2ZmM2",
        "colab_type": "text"
      },
      "source": [
        "# Assignment 1: Machine Learning\n"
      ]
    },
    {
      "cell_type": "markdown",
      "metadata": {
        "id": "UkJr6Lh9aIem",
        "colab_type": "text"
      },
      "source": [
        "## Question 1: Linear Regression\n",
        "To check whether you are able to build simple linear regression model from scratch or not."
      ]
    },
    {
      "cell_type": "code",
      "metadata": {
        "id": "wq1ZliSEuhTw",
        "colab_type": "code",
        "outputId": "1357d42a-39d1-4be6-d540-c09ef0646ea5",
        "colab": {
          "base_uri": "https://localhost:8080/",
          "height": 573
        }
      },
      "source": [
        "import numpy as np\n",
        "import matplotlib.pyplot as plt\n",
        "\n",
        "!wget --no-check-certificate https://github.com/bcs-iitk/BCS_Workshop_Apr_20/raw/master/Machine_Learning/Assignment/X.npy -O X.npy\n",
        "!wget --no-check-certificate https://github.com/bcs-iitk/BCS_Workshop_Apr_20/raw/master/Machine_Learning/Assignment/y.npy -O y.npy"
      ],
      "execution_count": 1,
      "outputs": [
        {
          "output_type": "stream",
          "text": [
            "--2020-04-03 05:34:27--  https://github.com/bcs-iitk/BCS_Workshop_Apr_20/raw/master/Machine_Learning/Assignment/X.npy\n",
            "Resolving github.com (github.com)... 140.82.114.4\n",
            "Connecting to github.com (github.com)|140.82.114.4|:443... connected.\n",
            "HTTP request sent, awaiting response... 302 Found\n",
            "Location: https://raw.githubusercontent.com/bcs-iitk/BCS_Workshop_Apr_20/master/Machine_Learning/Assignment/X.npy [following]\n",
            "--2020-04-03 05:34:27--  https://raw.githubusercontent.com/bcs-iitk/BCS_Workshop_Apr_20/master/Machine_Learning/Assignment/X.npy\n",
            "Resolving raw.githubusercontent.com (raw.githubusercontent.com)... 151.101.0.133, 151.101.64.133, 151.101.128.133, ...\n",
            "Connecting to raw.githubusercontent.com (raw.githubusercontent.com)|151.101.0.133|:443... connected.\n",
            "HTTP request sent, awaiting response... 200 OK\n",
            "Length: 528 [application/octet-stream]\n",
            "Saving to: ‘X.npy’\n",
            "\n",
            "\rX.npy                 0%[                    ]       0  --.-KB/s               \rX.npy               100%[===================>]     528  --.-KB/s    in 0s      \n",
            "\n",
            "2020-04-03 05:34:27 (50.9 MB/s) - ‘X.npy’ saved [528/528]\n",
            "\n",
            "--2020-04-03 05:34:34--  https://github.com/bcs-iitk/BCS_Workshop_Apr_20/raw/master/Machine_Learning/Assignment/y.npy\n",
            "Resolving github.com (github.com)... 140.82.114.4\n",
            "Connecting to github.com (github.com)|140.82.114.4|:443... connected.\n",
            "HTTP request sent, awaiting response... 302 Found\n",
            "Location: https://raw.githubusercontent.com/bcs-iitk/BCS_Workshop_Apr_20/master/Machine_Learning/Assignment/y.npy [following]\n",
            "--2020-04-03 05:34:34--  https://raw.githubusercontent.com/bcs-iitk/BCS_Workshop_Apr_20/master/Machine_Learning/Assignment/y.npy\n",
            "Resolving raw.githubusercontent.com (raw.githubusercontent.com)... 151.101.0.133, 151.101.64.133, 151.101.128.133, ...\n",
            "Connecting to raw.githubusercontent.com (raw.githubusercontent.com)|151.101.0.133|:443... connected.\n",
            "HTTP request sent, awaiting response... 200 OK\n",
            "Length: 528 [application/octet-stream]\n",
            "Saving to: ‘y.npy’\n",
            "\n",
            "y.npy               100%[===================>]     528  --.-KB/s    in 0s      \n",
            "\n",
            "2020-04-03 05:34:34 (52.4 MB/s) - ‘y.npy’ saved [528/528]\n",
            "\n"
          ],
          "name": "stdout"
        }
      ]
    },
    {
      "cell_type": "code",
      "metadata": {
        "id": "021fTYdwTkZm",
        "colab_type": "code",
        "colab": {}
      },
      "source": [
        "def load_data_LR():\n",
        "  # Implement this function to read the dataset using the path declared in path_X and path_y\n",
        "  # should return the X and y data\n",
        "  # use np.load() to load the data google it you will get to know how to do it\n",
        "\n",
        "  path_X = \"X.npy\"\n",
        "  path_y = \"y.npy\"\n",
        "\n",
        "  # Write your code here ----------\n",
        "\n",
        "  X = np.load(path_X)\n",
        "  y = np.load(path_y)\n",
        "\n",
        "  # -------------------------------\n",
        "\n",
        "  return X, y"
      ],
      "execution_count": 0,
      "outputs": []
    },
    {
      "cell_type": "code",
      "metadata": {
        "id": "Ngg3QUyTfBxC",
        "colab_type": "code",
        "colab": {}
      },
      "source": [
        "def get_linear_model(X, y):\n",
        "  # This should return a proper linear model without bias of type y = XW\n",
        "\n",
        "  # Write your code here ----------\n",
        "  \n",
        "  # N = y.shape[0] # number of train samples\n",
        "  D = X.shape[1] # number of train features\n",
        "  out_shape = y.shape[1] # sample dimension\n",
        "\n",
        "  # -------------------------------\n",
        "  \n",
        "  W = np.random.randn(D, out_shape) # fixed as per recent commits\n",
        "\n",
        "  return W"
      ],
      "execution_count": 0,
      "outputs": []
    },
    {
      "cell_type": "code",
      "metadata": {
        "id": "c52FIGu-hlzM",
        "colab_type": "code",
        "colab": {}
      },
      "source": [
        "def MSE(y, y_pred):\n",
        "  # should return the mean square error between the actual y and predicted y\n",
        "\n",
        "  # Write your code here ----------\n",
        "  \n",
        "  diff = np.subtract(y, y_pred)\n",
        "  error = np.matmul(diff.T, diff)\n",
        "  error = error.item()\n",
        "\n",
        "  # -------------------------------\n",
        "\n",
        "  return error"
      ],
      "execution_count": 0,
      "outputs": []
    },
    {
      "cell_type": "code",
      "metadata": {
        "id": "zrBrqA15hCdT",
        "colab_type": "code",
        "colab": {}
      },
      "source": [
        "def train_by_algebra(X, y):\n",
        "  # should return the trained weight 'W' using the linear algebra method i.e. setting dE/dW = 0\n",
        "\n",
        "  # Write your code here ----------\n",
        "  \n",
        "  # Simply using the normal formula: W = (X.T * X)^-1 * X.T * y\n",
        "\n",
        "  W = np.matmul(np.matmul(np.linalg.inv(np.matmul(X.T, X)), X.T), y)\n",
        "\n",
        "  # -------------------------------\n",
        "\n",
        "  return W"
      ],
      "execution_count": 0,
      "outputs": []
    },
    {
      "cell_type": "code",
      "metadata": {
        "id": "kJ_r_R1PixX2",
        "colab_type": "code",
        "colab": {}
      },
      "source": [
        "def train_by_GD(X, y, epochs=5, lr=0.01):\n",
        "  # should return the trained weight 'W' using the gradient descent for number of iterations equals to epochs\n",
        "  # should also return error history int the cariable error_hist.shape = (epochs,); error_hist[i] = mean square error after epoch i-1\n",
        "  # should also print mean square error after each epoch/ iteration\n",
        "  # lr = \"learning rate\" i.e. eta\n",
        "  \n",
        "  # Write your code here ----------\n",
        "  \n",
        "  # initialize weights with random normal distribution\n",
        "  \n",
        "  W = get_linear_model(X,y) \n",
        "  error_hist = []\n",
        "\n",
        "  for epoch in range(epochs):\n",
        "    y_pred = np.matmul(X, W)\n",
        "    diff = y - y_pred\n",
        "    grad = - np.matmul(X.T, diff)\n",
        "    W = W - lr * grad\n",
        "    mse_error = MSE(y, y_pred)\n",
        "    print(\"Epoch: {}, MSE Error: {}\".format(epoch+1, mse_error))\n",
        "    error_hist.append(mse_error)\n",
        "    \n",
        "  # -------------------------------\n",
        "\n",
        "  return W, error_hist"
      ],
      "execution_count": 0,
      "outputs": []
    },
    {
      "cell_type": "markdown",
      "metadata": {
        "id": "uLTxFIOgkdjJ",
        "colab_type": "text"
      },
      "source": [
        "### Now write a complete code using the function defined above to learn the model for following cases:"
      ]
    },
    {
      "cell_type": "markdown",
      "metadata": {
        "id": "eYW1AukM378a",
        "colab_type": "text"
      },
      "source": [
        "##### Learn **W** using linear algebra method and print mean square error between actual y and predicted y. Use `y_pred = XW`"
      ]
    },
    {
      "cell_type": "code",
      "metadata": {
        "id": "AIRs0jB-kOZU",
        "colab_type": "code",
        "outputId": "74f96f90-a0d2-4364-8e34-178e19fe42b8",
        "colab": {
          "base_uri": "https://localhost:8080/",
          "height": 34
        }
      },
      "source": [
        "# Write your code here ----------\n",
        "\n",
        "X,y = load_data_LR()\n",
        "\n",
        "W = train_by_algebra(X, y)\n",
        "\n",
        "y_pred = np.matmul(X, W)\n",
        "\n",
        "mse_error = MSE(y, y_pred)\n",
        "\n",
        "print(mse_error)\n",
        "\n",
        "# -------------------------------"
      ],
      "execution_count": 0,
      "outputs": [
        {
          "output_type": "stream",
          "text": [
            "274.5029910321911\n"
          ],
          "name": "stdout"
        }
      ]
    },
    {
      "cell_type": "markdown",
      "metadata": {
        "id": "6kP77_sK4CpT",
        "colab_type": "text"
      },
      "source": [
        "##### Learn **W** using gradient descent method for following learning rates, `lr = [10, 1, 0.1, 0.01, 0.001]` for **10 epochs**. Plot **MSE vs epochs** for each of them."
      ]
    },
    {
      "cell_type": "code",
      "metadata": {
        "id": "1bac27RT4G2H",
        "colab_type": "code",
        "outputId": "03f83b5a-3e16-4916-c92e-cd9d5ed15536",
        "colab": {
          "base_uri": "https://localhost:8080/",
          "height": 1000
        }
      },
      "source": [
        "# Write your code here ----------\n",
        "  \n",
        "# Data already loaded in previous cell, ain't loading it again\n",
        "\n",
        "lrs = [0.01, 0.001, 0.0001]\n",
        "epochs = 10\n",
        "\n",
        "for lr in lrs:\n",
        "    W, history = train_by_GD(X, y, epochs, lr)\n",
        "    \n",
        "    mean_error = sum(history)/epochs\n",
        "    \n",
        "    print(\"LR: {}, Mean MSE Error: {}\".format(lr, mean_error))\n",
        "\n",
        "    plt.figure(0)\n",
        "    plt.subplot(121)\n",
        "    plt.scatter(y)\n",
        "    plt.xlabel('Index')\n",
        "    plt.ylabel('Data')\n",
        "    plt.legend('Y')\n",
        "\n",
        "    plt.subplot(122)\n",
        "    plt.scatter(np.matmul(X, W))\n",
        "    plt.xlabel('Index')\n",
        "    plt.ylabel('Prediction')\n",
        "    plt.legend('Y Pred')\n",
        "\n",
        "    plt.figure(1)\n",
        "    plt.plot(history)\n",
        "    plt.xlabel(\"Epoch\")\n",
        "    plt.ylabel(\"MSE Error\")\n",
        "    plt.legend('error')\n",
        "\n",
        "    plt.show()\n",
        "\n",
        "    print()\n",
        "\n",
        "# -------------------------------"
      ],
      "execution_count": 0,
      "outputs": [
        {
          "output_type": "stream",
          "text": [
            "Epoch: 0, MSE Error: 34944.35309601121\n",
            "Epoch: 1, MSE Error: 566287702338.3636\n",
            "Epoch: 2, MSE Error: 9.249586039101852e+18\n",
            "Epoch: 3, MSE Error: 1.5108016929016735e+26\n",
            "Epoch: 4, MSE Error: 2.4677015226685747e+33\n",
            "Epoch: 5, MSE Error: 4.0306751267170584e+40\n",
            "Epoch: 6, MSE Error: 6.583592799978e+47\n",
            "Epoch: 7, MSE Error: 1.075345762019405e+55\n",
            "Epoch: 8, MSE Error: 1.7564398999539563e+62\n",
            "Epoch: 9, MSE Error: 2.868920147466571e+69\n",
            "LR: 10, Mean MSE Error: 2.8689203231105717e+68\n"
          ],
          "name": "stdout"
        },
        {
          "output_type": "display_data",
          "data": {
            "image/png": "[encoded data removed]",
            "text/plain": [
              "<Figure size 432x288 with 1 Axes>"
            ]
          },
          "metadata": {
            "tags": []
          }
        },
        {
          "output_type": "stream",
          "text": [
            "\n",
            "Epoch: 0, MSE Error: 50001.405406569116\n",
            "Epoch: 1, MSE Error: 8086119847.676061\n",
            "Epoch: 2, MSE Error: 1314888452236207.8\n",
            "Epoch: 3, MSE Error: 2.1381475084283953e+20\n",
            "Epoch: 4, MSE Error: 3.476853690535149e+25\n",
            "Epoch: 5, MSE Error: 5.653731343481217e+30\n",
            "Epoch: 6, MSE Error: 9.193564339873614e+35\n",
            "Epoch: 7, MSE Error: 1.4949706686867896e+41\n",
            "Epoch: 8, MSE Error: 2.4309802135616005e+46\n",
            "Epoch: 9, MSE Error: 3.95303059953622e+51\n",
            "LR: 1, Mean MSE Error: 3.953054909487854e+50\n"
          ],
          "name": "stdout"
        },
        {
          "output_type": "display_data",
          "data": {
            "image/png": "[encoded data removed]",
            "text/plain": [
              "<Figure size 432x288 with 1 Axes>"
            ]
          },
          "metadata": {
            "tags": []
          }
        },
        {
          "output_type": "stream",
          "text": [
            "\n",
            "Epoch: 0, MSE Error: 36621.49500692224\n",
            "Epoch: 1, MSE Error: 56495517.31991946\n",
            "Epoch: 2, MSE Error: 87812286351.66614\n",
            "Epoch: 3, MSE Error: 136489325501270.28\n",
            "Epoch: 4, MSE Error: 2.1214953861179152e+17\n",
            "Epoch: 5, MSE Error: 3.297505249439272e+20\n",
            "Epoch: 6, MSE Error: 5.1254133953017256e+23\n",
            "Epoch: 7, MSE Error: 7.966587006102709e+26\n",
            "Epoch: 8, MSE Error: 1.2382710160312508e+30\n",
            "Epoch: 9, MSE Error: 1.92468256226724e+33\n",
            "LR: 0.1, Mean MSE Error: 1.925921630454843e+32\n"
          ],
          "name": "stdout"
        },
        {
          "output_type": "display_data",
          "data": {
            "image/png": "[encoded data removed]",
            "text/plain": [
              "<Figure size 432x288 with 1 Axes>"
            ]
          },
          "metadata": {
            "tags": []
          }
        },
        {
          "output_type": "stream",
          "text": [
            "\n",
            "Epoch: 0, MSE Error: 47118.612274262785\n",
            "Epoch: 1, MSE Error: 433901.3465797245\n",
            "Epoch: 2, MSE Error: 4014274.1788906115\n",
            "Epoch: 3, MSE Error: 37157091.790356226\n",
            "Epoch: 4, MSE Error: 343953732.99878126\n",
            "Epoch: 5, MSE Error: 3183910798.8159385\n",
            "Epoch: 6, MSE Error: 29472843115.40387\n",
            "Epoch: 7, MSE Error: 272824396089.42224\n",
            "Epoch: 8, MSE Error: 2525482572606.523\n",
            "Epoch: 9, MSE Error: 23377902860103.63\n",
            "LR: 0.01, Mean MSE Error: 2620925218883.272\n"
          ],
          "name": "stdout"
        },
        {
          "output_type": "display_data",
          "data": {
            "image/png": "[encoded data removed]",
            "text/plain": [
              "<Figure size 432x288 with 1 Axes>"
            ]
          },
          "metadata": {
            "tags": []
          }
        },
        {
          "output_type": "stream",
          "text": [
            "\n",
            "Epoch: 0, MSE Error: 32901.09174281248\n",
            "Epoch: 1, MSE Error: 11854.268656798346\n",
            "Epoch: 2, MSE Error: 4384.370985329937\n",
            "Epoch: 3, MSE Error: 1733.169376699107\n",
            "Epoch: 4, MSE Error: 792.2100384669707\n",
            "Epoch: 5, MSE Error: 458.2465732503384\n",
            "Epoch: 6, MSE Error: 339.7169072298654\n",
            "Epoch: 7, MSE Error: 297.64858781710706\n",
            "Epoch: 8, MSE Error: 282.71778139849977\n",
            "Epoch: 9, MSE Error: 277.418568512845\n",
            "LR: 0.001, Mean MSE Error: 5332.08592183155\n"
          ],
          "name": "stdout"
        },
        {
          "output_type": "display_data",
          "data": {
            "image/png": "[encoded data removed]",
            "text/plain": [
              "<Figure size 432x288 with 1 Axes>"
            ]
          },
          "metadata": {
            "tags": []
          }
        },
        {
          "output_type": "stream",
          "text": [
            "\n"
          ],
          "name": "stdout"
        }
      ]
    },
    {
      "cell_type": "markdown",
      "metadata": {
        "id": "4zJO-LIvn6sD",
        "colab_type": "text"
      },
      "source": [
        "## Question 2: Image Classification in Tensorflow using Deep Learning\n",
        "To check whether you are able to build a given neural network model in tensorflow or not. First we will build a fully connected NN model second we will build a CNN model."
      ]
    },
    {
      "cell_type": "code",
      "metadata": {
        "id": "7mynGfqRn24b",
        "colab_type": "code",
        "colab": {}
      },
      "source": [
        "import numpy as np\n",
        "import tensorflow as tf\n",
        "import matplotlib.pyplot as plt\n",
        "\n",
        "# dataset import\n",
        "from tensorflow.keras.datasets import cifar10\n",
        "\n",
        "# imports for layer\n",
        "from tensorflow.keras.models import Sequential\n",
        "from tensorflow.keras.layers import Dense, Conv2D, MaxPool2D, Flatten"
      ],
      "execution_count": 0,
      "outputs": []
    },
    {
      "cell_type": "code",
      "metadata": {
        "id": "s8WKt-qY4agV",
        "colab_type": "code",
        "colab": {}
      },
      "source": [
        "def plot_history(history):\n",
        "  # function to plot accuracy vs epoch\n",
        "\n",
        "  plt.plot(history.history['accuracy'], label='accuracy')\n",
        "  plt.plot(history.history['val_accuracy'], label = 'val_accuracy')\n",
        "  plt.xlabel('Epoch')\n",
        "  plt.ylabel('Accuracy')\n",
        "  plt.legend(loc='lower right')"
      ],
      "execution_count": 0,
      "outputs": []
    },
    {
      "cell_type": "code",
      "metadata": {
        "id": "tCT9Kmhhn5I_",
        "colab_type": "code",
        "colab": {}
      },
      "source": [
        "def load_data_cifar10_norm():\n",
        "  # should return the normalised cifar10 dataset by loading it from tensorflow\n",
        "  # link: https://www.tensorflow.org/api_docs/python/tf/keras/datasets/cifar10/\n",
        "\n",
        "  # Write your code here ----------\n",
        "\n",
        "  (x_train, y_train), (x_test, y_test) = cifar10.load_data()\n",
        "\n",
        "  y_train = tf.keras.utils.to_categorical(y_train, 10)\n",
        "  y_test = tf.keras.utils.to_categorical(y_test, 10)\n",
        "\n",
        "  x_train = x_train.astype('float32')\n",
        "  x_test = x_test.astype('float32')\n",
        "  x_train /= 255\n",
        "  x_test /= 255\n",
        "\n",
        "  # -------------------------------\n",
        "\n",
        "  return x_train, y_train, x_test, y_test"
      ],
      "execution_count": 0,
      "outputs": []
    },
    {
      "cell_type": "markdown",
      "metadata": {
        "colab_type": "text",
        "id": "LDpHSTRPvS9t"
      },
      "source": [
        "### Define a fully connected neural network model with following attributes:\n",
        "\n",
        "*   Total number of **hidden layers = 4**, all with **relu** activation\n",
        "*   Number of neurons in **first hidden layer = 7200**\n",
        "*   Number of neurons in **second hidden layer = 2304**\n",
        "*   Number of neurons in **third hidden layer = 1024**\n",
        "*   Number of neurons in **fourth hidden layer = 64**\n"
      ]
    },
    {
      "cell_type": "code",
      "metadata": {
        "id": "VYYQzIWnqU3t",
        "colab_type": "code",
        "colab": {}
      },
      "source": [
        "def build_fc_model(input_shape=(32, 32, 3), num_class=10):\n",
        "  # should return a sequential model defined based on the above attributes\n",
        "  # do not compile the model\n",
        "\n",
        "  # Write your code here ----------\n",
        "    \n",
        "  model = Sequential()\n",
        "  model.add(Flatten())\n",
        "  model.add(Dense(7200, activation='relu'))\n",
        "  model.add(Dense(2304, activation='relu'))\n",
        "  model.add(Dense(1024, activation='relu'))\n",
        "  model.add(Dense(64, activation='relu'))\n",
        "  model.add(Dense(num_class, activation='softmax'))\n",
        "\n",
        "  # -------------------------------\n",
        "\n",
        "  return model"
      ],
      "execution_count": 0,
      "outputs": []
    },
    {
      "cell_type": "markdown",
      "metadata": {
        "id": "pdcQ2yqz1RYH",
        "colab_type": "text"
      },
      "source": [
        "### Define a CNN model with following attribute:\n",
        "\n",
        "*   Total number of **hidden layer = 4**\n",
        "*   After every convolutional layer there must be a MaxPoolingLayer of size (2, 2)\n",
        "*   Total number of convolutional layer = 3, all with **relu** activation.\n",
        "    *    Number of filters in **first convolutional layer = 32**\n",
        "    *    Number of filters in **second convolutional layer = 64**\n",
        "    *    Number of filters in **third convolutional layer = 64**\n",
        "*   After all convolutional layer flatten the output and use **dense layer of 64 neurons**\n",
        "\n"
      ]
    },
    {
      "cell_type": "code",
      "metadata": {
        "id": "T00AYU3D3L1j",
        "colab_type": "code",
        "colab": {}
      },
      "source": [
        "def build_cnn_model(input_shape=(32, 32, 3), num_class=10):\n",
        "  # should return a sequential model defined based on the above attributes\n",
        "  # do not compile the model\n",
        "\n",
        "  # Write your code here ----------\n",
        "  \n",
        "  model = Sequential()\n",
        "  model.add(Conv2D(32, kernel_size=3, activation='relu', input_shape=input_shape))\n",
        "  model.add(MaxPool2D()) # default pool size (2,2)\n",
        "  model.add(Conv2D(64, kernel_size=3, activation='relu'))\n",
        "  model.add(MaxPool2D()) \n",
        "  model.add(Conv2D(64, kernel_size=3, activation='relu'))\n",
        "  model.add(MaxPool2D())\n",
        "  model.add(Flatten())\n",
        "  model.add(Dense(64, activation='relu'))\n",
        "  model.add(Dense(num_class, activation='softmax'))\n",
        "\n",
        "  # -------------------------------\n",
        "\n",
        "  return model"
      ],
      "execution_count": 0,
      "outputs": []
    },
    {
      "cell_type": "markdown",
      "metadata": {
        "id": "7SXXUeRp4Urq",
        "colab_type": "text"
      },
      "source": [
        "### Compile and train the fully connected neural network model using the above functions."
      ]
    },
    {
      "cell_type": "code",
      "metadata": {
        "id": "61_XiEUR3eV0",
        "colab_type": "code",
        "outputId": "bae320f9-103c-404b-da10-61feebb77d28",
        "colab": {
          "base_uri": "https://localhost:8080/",
          "height": 974
        }
      },
      "source": [
        "# Write your code here ----------\n",
        "\n",
        "x_train, y_train, x_test, y_test = load_data_cifar10_norm()\n",
        "model = build_fc_model()\n",
        "model.compile(optimizer='adam', metrics=['accuracy'], loss='categorical_crossentropy')\n",
        "\n",
        "# -------------------------------\n",
        "\n",
        "history = model.fit(x_train, y_train, epochs=10, batch_size=512,\n",
        "                    validation_data=(x_test, y_test))\n",
        "\n",
        "plot_history(history)\n",
        "model.summary()"
      ],
      "execution_count": 0,
      "outputs": [
        {
          "output_type": "stream",
          "text": [
            "Epoch 1/10\n",
            "98/98 [==============================] - 4s 40ms/step - loss: 2.0886 - accuracy: 0.2502 - val_loss: 1.9560 - val_accuracy: 0.3238\n",
            "Epoch 2/10\n",
            "98/98 [==============================] - 4s 37ms/step - loss: 1.9145 - accuracy: 0.3302 - val_loss: 1.8992 - val_accuracy: 0.3377\n",
            "Epoch 3/10\n",
            "98/98 [==============================] - 4s 37ms/step - loss: 1.8453 - accuracy: 0.3529 - val_loss: 1.8467 - val_accuracy: 0.3384\n",
            "Epoch 4/10\n",
            "98/98 [==============================] - 4s 38ms/step - loss: 1.7995 - accuracy: 0.3709 - val_loss: 1.7890 - val_accuracy: 0.3673\n",
            "Epoch 5/10\n",
            "98/98 [==============================] - 4s 39ms/step - loss: 1.7555 - accuracy: 0.3863 - val_loss: 1.7325 - val_accuracy: 0.3912\n",
            "Epoch 6/10\n",
            "98/98 [==============================] - 4s 39ms/step - loss: 1.7280 - accuracy: 0.3908 - val_loss: 1.7762 - val_accuracy: 0.3650\n",
            "Epoch 7/10\n",
            "98/98 [==============================] - 4s 39ms/step - loss: 1.7035 - accuracy: 0.4031 - val_loss: 1.6918 - val_accuracy: 0.4092\n",
            "Epoch 8/10\n",
            "98/98 [==============================] - 4s 38ms/step - loss: 1.6780 - accuracy: 0.4111 - val_loss: 1.6516 - val_accuracy: 0.4228\n",
            "Epoch 9/10\n",
            "98/98 [==============================] - 4s 38ms/step - loss: 1.6559 - accuracy: 0.4199 - val_loss: 1.6382 - val_accuracy: 0.4298\n",
            "Epoch 10/10\n",
            "98/98 [==============================] - 4s 38ms/step - loss: 1.6282 - accuracy: 0.4279 - val_loss: 1.6735 - val_accuracy: 0.4190\n",
            "Model: \"sequential_3\"\n",
            "_________________________________________________________________\n",
            "Layer (type)                 Output Shape              Param #   \n",
            "=================================================================\n",
            "flatten_3 (Flatten)          multiple                  0         \n",
            "_________________________________________________________________\n",
            "dense_12 (Dense)             multiple                  22125600  \n",
            "_________________________________________________________________\n",
            "dense_13 (Dense)             multiple                  16591104  \n",
            "_________________________________________________________________\n",
            "dense_14 (Dense)             multiple                  2360320   \n",
            "_________________________________________________________________\n",
            "dense_15 (Dense)             multiple                  65600     \n",
            "_________________________________________________________________\n",
            "dense_16 (Dense)             multiple                  650       \n",
            "=================================================================\n",
            "Total params: 41,143,274\n",
            "Trainable params: 41,143,274\n",
            "Non-trainable params: 0\n",
            "_________________________________________________________________\n"
          ],
          "name": "stdout"
        },
        {
          "output_type": "display_data",
          "data": {
            "image/png": "[encoded data removed]",
            "text/plain": [
              "<Figure size 432x288 with 1 Axes>"
            ]
          },
          "metadata": {
            "tags": []
          }
        }
      ]
    },
    {
      "cell_type": "markdown",
      "metadata": {
        "id": "Z_yHXGc47ENb",
        "colab_type": "text"
      },
      "source": [
        "### Compile and train the CNN model using the above functions."
      ]
    },
    {
      "cell_type": "code",
      "metadata": {
        "id": "aM9rueu97Gnq",
        "colab_type": "code",
        "outputId": "dfc06b58-67c7-4f2b-963c-1d1bc3c60808",
        "colab": {
          "base_uri": "https://localhost:8080/",
          "height": 1000
        }
      },
      "source": [
        "# Write your code here ----------\n",
        "\n",
        "x_train, y_train, x_test, y_test = load_data_cifar10_norm()\n",
        "model = build_cnn_model()\n",
        "model.compile(optimizer='adam', metrics=['accuracy'], loss='categorical_crossentropy')\n",
        "\n",
        "# -------------------------------\n",
        "\n",
        "history = model.fit(x_train, y_train, epochs=10, batch_size=512,\n",
        "                    validation_data=(x_test, y_test))\n",
        "\n",
        "plot_history(history)\n",
        "model.summary()"
      ],
      "execution_count": 0,
      "outputs": [
        {
          "output_type": "stream",
          "text": [
            "Epoch 1/10\n",
            "98/98 [==============================] - 2s 20ms/step - loss: 1.9421 - accuracy: 0.2884 - val_loss: 1.6918 - val_accuracy: 0.3853\n",
            "Epoch 2/10\n",
            "98/98 [==============================] - 2s 17ms/step - loss: 1.5821 - accuracy: 0.4249 - val_loss: 1.4916 - val_accuracy: 0.4547\n",
            "Epoch 3/10\n",
            "98/98 [==============================] - 2s 17ms/step - loss: 1.4449 - accuracy: 0.4790 - val_loss: 1.3998 - val_accuracy: 0.4962\n",
            "Epoch 4/10\n",
            "98/98 [==============================] - 2s 17ms/step - loss: 1.3538 - accuracy: 0.5162 - val_loss: 1.3366 - val_accuracy: 0.5229\n",
            "Epoch 5/10\n",
            "98/98 [==============================] - 2s 17ms/step - loss: 1.2938 - accuracy: 0.5379 - val_loss: 1.2839 - val_accuracy: 0.5406\n",
            "Epoch 6/10\n",
            "98/98 [==============================] - 2s 16ms/step - loss: 1.2436 - accuracy: 0.5588 - val_loss: 1.2260 - val_accuracy: 0.5652\n",
            "Epoch 7/10\n",
            "98/98 [==============================] - 2s 16ms/step - loss: 1.1953 - accuracy: 0.5768 - val_loss: 1.1680 - val_accuracy: 0.5851\n",
            "Epoch 8/10\n",
            "98/98 [==============================] - 2s 17ms/step - loss: 1.1461 - accuracy: 0.5951 - val_loss: 1.1718 - val_accuracy: 0.5833\n",
            "Epoch 9/10\n",
            "98/98 [==============================] - 2s 17ms/step - loss: 1.1123 - accuracy: 0.6078 - val_loss: 1.1630 - val_accuracy: 0.5825\n",
            "Epoch 10/10\n",
            "98/98 [==============================] - 2s 17ms/step - loss: 1.0751 - accuracy: 0.6197 - val_loss: 1.0984 - val_accuracy: 0.6098\n",
            "Model: \"sequential_2\"\n",
            "_________________________________________________________________\n",
            "Layer (type)                 Output Shape              Param #   \n",
            "=================================================================\n",
            "conv2d (Conv2D)              (None, 30, 30, 32)        896       \n",
            "_________________________________________________________________\n",
            "max_pooling2d (MaxPooling2D) (None, 15, 15, 32)        0         \n",
            "_________________________________________________________________\n",
            "conv2d_1 (Conv2D)            (None, 13, 13, 64)        18496     \n",
            "_________________________________________________________________\n",
            "max_pooling2d_1 (MaxPooling2 (None, 6, 6, 64)          0         \n",
            "_________________________________________________________________\n",
            "conv2d_2 (Conv2D)            (None, 4, 4, 64)          36928     \n",
            "_________________________________________________________________\n",
            "max_pooling2d_2 (MaxPooling2 (None, 2, 2, 64)          0         \n",
            "_________________________________________________________________\n",
            "flatten_2 (Flatten)          (None, 256)               0         \n",
            "_________________________________________________________________\n",
            "dense_10 (Dense)             (None, 64)                16448     \n",
            "_________________________________________________________________\n",
            "dense_11 (Dense)             (None, 10)                650       \n",
            "=================================================================\n",
            "Total params: 73,418\n",
            "Trainable params: 73,418\n",
            "Non-trainable params: 0\n",
            "_________________________________________________________________\n"
          ],
          "name": "stdout"
        },
        {
          "output_type": "display_data",
          "data": {
            "image/png": "[encoded data removed]",
            "text/plain": [
              "<Figure size 432x288 with 1 Axes>"
            ]
          },
          "metadata": {
            "tags": []
          }
        }
      ]
    },
    {
      "cell_type": "markdown",
      "metadata": {
        "id": "nKwrtPcy750Q",
        "colab_type": "text"
      },
      "source": [
        "### What do you observe? Compare both the model by looking at their Accuracy vs Epoch plot and total numbers of trainable parameters."
      ]
    },
    {
      "cell_type": "code",
      "metadata": {
        "id": "Q2lFRCoL8N_b",
        "colab_type": "code",
        "colab": {}
      },
      "source": [
        "print(\"The CNN model trains faster, has significantly less number of parameters so overall it's better able to learn the image features as compared to the fully connected Dense network.\")\n",
        "print(\"Furthermore increasing the number of epochs demonstrates the fully connect network isn't able to cross val acc above 0.6, but the CNN easily achieves this.\")\n",
        "print(\"Also sometimes the fully connected network gets stuck in some local minima as a result of which acc and val acc get stuck at 0.1. not nice :(. happened a couple of times with adam and rmsprop, sgd got me out :)\")"
      ],
      "execution_count": 0,
      "outputs": []
    },
    {
      "cell_type": "markdown",
      "metadata": {
        "id": "NlX1GE9f84dN",
        "colab_type": "text"
      },
      "source": [
        "## Question 3: Image Classification in Tensorflow using Transfer Learning\n",
        "In this we will again try to learn a classification model for **cifar10** but by using the concept of transfer learning. "
      ]
    },
    {
      "cell_type": "markdown",
      "metadata": {
        "id": "TMQs8VAJaiZc",
        "colab_type": "text"
      },
      "source": [
        "### Brief description on Transfer Learning:"
      ]
    },
    {
      "cell_type": "markdown",
      "metadata": {
        "id": "velsoC8-KP6B",
        "colab_type": "text"
      },
      "source": [
        "The idea behind transfer learning for image classification is that when you train a model on a very large image dataset like ImageNet, then this model can effectivly serve as generic model of visual world. If you remember, a closer look at every CNN model gives you an idea that every CNN model used to have some sets of convolutional layers followed by a dense layer and finally at last a classification (output) layer. So, here the convolutional layer somewhat act as feature mapping function which maps the input image to an different dimensional space. And finally at the end you apply dense layer to classify the images based on those extracted features. <br>\n",
        "\n",
        "**Inshort this what you do in a CNN model:**\n",
        "![](https://github.com/bcs-iitk/BCS_Workshop_Apr_20/raw/master/Machine_Learning/Assignment/cnn_model.png)\n",
        "\n",
        "So what we will do in transfer learning is that we will use some already pre-trained model which are trained on ImageNet dataset. Will only use its learned convolutional layers as a feature mapping function. And finally will learn a fully connected neural network on those features to classify the images.\n"
      ]
    },
    {
      "cell_type": "markdown",
      "metadata": {
        "id": "203W4I0oMs5v",
        "colab_type": "text"
      },
      "source": [
        "### Attributes of Transfer Learning model to be build\n",
        "\n",
        "*   Pre-trained weights of VGG16 will be used as feature extracter\n",
        "*   After this flatten the output and use dense layer of **64 neurons**\n",
        "\n"
      ]
    },
    {
      "cell_type": "code",
      "metadata": {
        "id": "COUcSjSz9DtQ",
        "colab_type": "code",
        "colab": {}
      },
      "source": [
        "import numpy as np\n",
        "import tensorflow as tf\n",
        "import matplotlib.pyplot as plt\n",
        "from tensorflow.keras.applications.vgg16 import preprocess_input, VGG16"
      ],
      "execution_count": 0,
      "outputs": []
    },
    {
      "cell_type": "code",
      "metadata": {
        "id": "ylCRV_niMhxA",
        "colab_type": "code",
        "colab": {}
      },
      "source": [
        "def plot_history(history):\n",
        "  # function to plot accuracy vs epoch\n",
        "\n",
        "  plt.plot(history.history['accuracy'], label='accuracy')\n",
        "  plt.plot(history.history['val_accuracy'], label = 'val_accuracy')\n",
        "  plt.xlabel('Epoch')\n",
        "  plt.ylabel('Accuracy')\n",
        "  plt.legend(loc='lower right')"
      ],
      "execution_count": 0,
      "outputs": []
    },
    {
      "cell_type": "code",
      "metadata": {
        "id": "ijdwptetMmSL",
        "colab_type": "code",
        "outputId": "366f610b-bd3c-4920-bb64-349449f1b4b6",
        "colab": {
          "base_uri": "https://localhost:8080/",
          "height": 34
        }
      },
      "source": [
        "def load_data_cifar10():\n",
        "  # should return the normalised cifar10 dataset by loading it from tensorflow\n",
        "  # link: https://www.tensorflow.org/api_docs/python/tf/keras/datasets/cifar10/\n",
        "\n",
        "  # Write your code here ----------\n",
        "\n",
        "  (x_train, y_train), (x_test, y_test) = tf.keras.datasets.cifar10.load_data()\n",
        "\n",
        "  y_train = tf.keras.utils.to_categorical(y_train, 10)\n",
        "  y_test = tf.keras.utils.to_categorical(y_test, 10)\n",
        "\n",
        "  # -------------------------------\n",
        "\n",
        "  return preprocess_input(x_train), y_train, preprocess_input(x_test), y_test"
      ],
      "execution_count": 0,
      "outputs": [
        {
          "output_type": "stream",
          "text": [
            "ERROR! Session/line number was not unique in database. History logging moved to new session 60\n"
          ],
          "name": "stdout"
        }
      ]
    },
    {
      "cell_type": "code",
      "metadata": {
        "id": "8kgkpJfwKhlR",
        "colab_type": "code",
        "colab": {}
      },
      "source": [
        "def build_tl_model(num_class=10):\n",
        "  # should return the ccombined model using the VGG16 conv layers as conv layers\n",
        "  # and for fully connected layer part use the above attributes.\n",
        "\n",
        "  base_model = VGG16(input_shape=(32, 32, 3), include_top=False, weights='imagenet') # this is the conv layers from VGG16\n",
        "  base_model.trainable = False # this ensures that while training the dense layers these weights don't get changed\n",
        "\n",
        "  model = tf.keras.models.Sequential([\n",
        "    # Feature extractor \n",
        "    base_model,\n",
        "\n",
        "    # Flatten and use the attribute given the question to build the dense part\n",
        "    # Write your code here ----------\n",
        "    Flatten(), \n",
        "    Dense(64, activation='relu'),\n",
        "    Dense(num_class, activation='softmax')\n",
        "\n",
        "    # -------------------------------\n",
        "  ])\n",
        "\n",
        "  return model"
      ],
      "execution_count": 0,
      "outputs": []
    },
    {
      "cell_type": "markdown",
      "metadata": {
        "id": "_-2kUilyPNJJ",
        "colab_type": "text"
      },
      "source": [
        "### Compile and train the model using above functions, use adam optimiser with learning rate = 0.0001"
      ]
    },
    {
      "cell_type": "code",
      "metadata": {
        "id": "6FzIIP7GPMOt",
        "colab_type": "code",
        "outputId": "6d423a63-ff77-4209-edc1-12897eda619e",
        "colab": {
          "base_uri": "https://localhost:8080/",
          "height": 904
        }
      },
      "source": [
        "# Write your code here ----------\n",
        "\n",
        "x_train, y_train, x_test, y_test = load_data_cifar10()\n",
        "model = build_tl_model()\n",
        "optim = tf.keras.optimizers.Adam(learning_rate=0.0001)\n",
        "model.compile(optimizer=optim, loss='categorical_crossentropy', metrics=['accuracy'])\n",
        "\n",
        "# -------------------------------\n",
        "\n",
        "history = model.fit(x_train, y_train, epochs=10, batch_size=512,\n",
        "                    validation_data=(x_test, y_test))\n",
        "\n",
        "plot_history(history)\n",
        "model.summary()"
      ],
      "execution_count": 0,
      "outputs": [
        {
          "output_type": "stream",
          "text": [
            "Epoch 1/10\n",
            "98/98 [==============================] - 10s 103ms/step - loss: 12.6143 - accuracy: 0.1847 - val_loss: 8.1412 - val_accuracy: 0.2664\n",
            "Epoch 2/10\n",
            "98/98 [==============================] - 7s 72ms/step - loss: 6.6551 - accuracy: 0.3203 - val_loss: 5.7065 - val_accuracy: 0.3524\n",
            "Epoch 3/10\n",
            "98/98 [==============================] - 7s 72ms/step - loss: 4.9567 - accuracy: 0.3802 - val_loss: 4.5130 - val_accuracy: 0.3966\n",
            "Epoch 4/10\n",
            "98/98 [==============================] - 7s 73ms/step - loss: 3.9855 - accuracy: 0.4119 - val_loss: 3.7369 - val_accuracy: 0.4183\n",
            "Epoch 5/10\n",
            "98/98 [==============================] - 7s 73ms/step - loss: 3.3344 - accuracy: 0.4293 - val_loss: 3.1868 - val_accuracy: 0.4312\n",
            "Epoch 6/10\n",
            "98/98 [==============================] - 7s 73ms/step - loss: 2.8574 - accuracy: 0.4413 - val_loss: 2.7699 - val_accuracy: 0.4384\n",
            "Epoch 7/10\n",
            "98/98 [==============================] - 7s 73ms/step - loss: 2.4994 - accuracy: 0.4499 - val_loss: 2.4501 - val_accuracy: 0.4415\n",
            "Epoch 8/10\n",
            "98/98 [==============================] - 7s 73ms/step - loss: 2.2333 - accuracy: 0.4565 - val_loss: 2.2097 - val_accuracy: 0.4482\n",
            "Epoch 9/10\n",
            "98/98 [==============================] - 7s 72ms/step - loss: 2.0358 - accuracy: 0.4631 - val_loss: 2.0319 - val_accuracy: 0.4587\n",
            "Epoch 10/10\n",
            "98/98 [==============================] - 7s 72ms/step - loss: 1.8900 - accuracy: 0.4695 - val_loss: 1.8987 - val_accuracy: 0.4636\n",
            "Model: \"sequential_5\"\n",
            "_________________________________________________________________\n",
            "Layer (type)                 Output Shape              Param #   \n",
            "=================================================================\n",
            "vgg16 (Model)                (None, 1, 1, 512)         14714688  \n",
            "_________________________________________________________________\n",
            "flatten_5 (Flatten)          (None, 512)               0         \n",
            "_________________________________________________________________\n",
            "dense_19 (Dense)             (None, 64)                32832     \n",
            "_________________________________________________________________\n",
            "dense_20 (Dense)             (None, 10)                650       \n",
            "=================================================================\n",
            "Total params: 14,748,170\n",
            "Trainable params: 33,482\n",
            "Non-trainable params: 14,714,688\n",
            "_________________________________________________________________\n"
          ],
          "name": "stdout"
        },
        {
          "output_type": "display_data",
          "data": {
            "image/png": "[encoded data removed]",
            "text/plain": [
              "<Figure size 432x288 with 1 Axes>"
            ]
          },
          "metadata": {
            "tags": []
          }
        }
      ]
    },
    {
      "cell_type": "markdown",
      "metadata": {
        "id": "l0QMGbtcQKNx",
        "colab_type": "text"
      },
      "source": [
        "## Question 4: Reinforcement Learning\n",
        "In this you have to implement and train an RL agent to find a path for a frozen lake problem. "
      ]
    },
    {
      "cell_type": "markdown",
      "metadata": {
        "id": "qH7ubidoNaEv",
        "colab_type": "text"
      },
      "source": [
        "### Frozen Lake Problem Description:"
      ]
    },
    {
      "cell_type": "markdown",
      "metadata": {
        "id": "LTCY_Ip1M9Qc",
        "colab_type": "text"
      },
      "source": [
        "> Imagine there is a frozen lake stretching from your home to your office; you have to walk on the frozen lake to reach your office. But oops! There are holes in the frozen lake so you have to be careful while walking on the frozen lake to avoid getting trapped in the holes. [[src](https://subscription.packtpub.com/book/big_data_and_business_intelligence/9781788836524/3/ch03lvl1sec32/solving-the-frozen-lake-problem)]\n",
        "\n",
        "![frozen-lake](https://static.packt-cdn.com/products/9781788836524/graphics/49f3e058-2f32-40e8-9992-b53d1f57d138.png)\n",
        "\n",
        "\n",
        "Two task you have to do here:\n",
        "\n",
        "*   Implement a frozen lake scenario given the inputs, number of holes (M) and size of the lake (N) (Assume the lake is square). Starting point will be (0, 0) and goal will be to reach at (N-1, N-1)\n",
        "*   Implemenat Q-learning method to learn a path from start to goal.\n",
        "*   Use the following reward scheme: 50 points on reaching the goal, -50 points on stepping on a hole.\n",
        "\n",
        "#### Q-learning\n",
        "Recall from the lecture video that `Q[state, action]` gives you an action state pair to get an optimal policy. Recall the Q-Loss from the lecture video i.e:\n",
        "> $E = ||r + \\gamma \\cdot \\max_{a'} Q(s', a') - Q(s, a)||^2$\n",
        "\n",
        "Use gradient descent to minimise $E$ and work out a learning rule for $Q(s, a)$. \n",
        "> Take $\\max_{a'} Q(s', a')$ and $r$ to be independent of $Q(s, a)$.\n"
      ]
    },
    {
      "cell_type": "markdown",
      "metadata": {
        "id": "pbkIHLK7NFEw",
        "colab_type": "text"
      },
      "source": [
        "### Defining important functions"
      ]
    },
    {
      "cell_type": "code",
      "metadata": {
        "id": "QnnNULcYQNRj",
        "colab_type": "code",
        "colab": {}
      },
      "source": [
        "import numpy as np\n",
        "import matplotlib.pyplot as plt\n",
        "import copy"
      ],
      "execution_count": 0,
      "outputs": []
    },
    {
      "cell_type": "code",
      "metadata": {
        "id": "n9vGeSBZEG-r",
        "colab_type": "code",
        "colab": {}
      },
      "source": [
        "ActionMap = ['Up', 'Right', 'Down', 'Left']"
      ],
      "execution_count": 0,
      "outputs": []
    },
    {
      "cell_type": "code",
      "metadata": {
        "id": "izQzYoXBHVgr",
        "colab_type": "code",
        "colab": {}
      },
      "source": [
        "def get_board(N, M):\n",
        "  # should return an N x N size frozen lake - board with M randomle placed holes.\n",
        "  # use 'S' representation for starting point\n",
        "  # use 'G' representation for goal point\n",
        "  # use 'H' representation for holes\n",
        "  # use 'F' for frozen lakes \n",
        "  # Refer the representation from the image shown above\n",
        "\n",
        "  # Write your code here ----------\n",
        "\n",
        "  board = np.chararray((N, N))\n",
        "\n",
        "  for x in range(N):\n",
        "    for y in range(N):\n",
        "      board[x][y] = 'F'\n",
        "\n",
        "  board[0][0] = 'S'\n",
        "  board[N-1][N-1] = 'G'\n",
        "\n",
        "  hole_x = np.random.randint(low=N, size=M)\n",
        "  hole_y = np.random.randint(low=N, size=M)\n",
        "  \n",
        "  for i in range(M): \n",
        "    if((hole_x[i] == N-1 and hole_y[i] == N - 1) or (hole_x[i] == 0 and hole_y[i] == 0)):\n",
        "      hole_x[i] = np.random.randint(low=N)\n",
        "      hole_y[i] = np.random.randint(low=N)\n",
        "    board[hole_x[i]][hole_y[i]] = 'H'\n",
        "\n",
        "  # -------------------------------\n",
        "\n",
        "  return board"
      ],
      "execution_count": 0,
      "outputs": []
    },
    {
      "cell_type": "code",
      "metadata": {
        "id": "nu6PW4KhIZH7",
        "colab_type": "code",
        "colab": {}
      },
      "source": [
        "def get_reward(board, N, M):\n",
        "  # should return an N x N size reward table for the generated frozen lake scenario\n",
        "  # use 50 reward for 'G' point\n",
        "  # use -50 reward for 'H' point\n",
        "  # o for rest.\n",
        "\n",
        "  # Write your code here ----------\n",
        "\n",
        "  reward = np.zeros(board.shape).astype('int')\n",
        "\n",
        "  for i in range(board.shape[0]):\n",
        "    for j in range(board.shape[1]):\n",
        "      if(board[i][j] == b'H'):\n",
        "        reward[i][j] = -50\n",
        "      if(board[i][j] == b'G'):\n",
        "        reward[i][j] = 50\n",
        "\n",
        "  # -------------------------------\n",
        "\n",
        "  return reward"
      ],
      "execution_count": 0,
      "outputs": []
    },
    {
      "cell_type": "code",
      "metadata": {
        "id": "B1ueYhO8Ecnh",
        "colab_type": "code",
        "colab": {}
      },
      "source": [
        "class FrozenLake:\n",
        "  def __init__(self, N, M):\n",
        "    # Recall python class, this function is called when you first initialise the class\n",
        "    # Should intialise the board and reward table based on the reward scheme\n",
        "    # Select M numbers of holes randomly\n",
        "\n",
        "    self.board = get_board(N, M)\n",
        "    self.init_board = copy.deepcopy(self.board) \n",
        "    self.reward = get_reward(self.board, N, M)\n",
        "    self.state = (0, 0)\n",
        "    self.finish = 0\n",
        "    self.N = N\n",
        "\n",
        "\n",
        "  def reset(self):\n",
        "    # should reset the env with board to initial state\n",
        "    # hint: set self.state at 0, 0 and use self.init_board to reset self.board\n",
        "\n",
        "    # Write your code here ----------\n",
        "\n",
        "    self.state = (0,0)\n",
        "    self.board = copy.deepcopy(self.init_board)\n",
        "\n",
        "    # -------------------------------\n",
        "    self.finish = 0\n",
        "\n",
        "    return self.state\n",
        "  \n",
        "  def step(self, action):\n",
        "    # ===== Action Table =========\n",
        "    #     0 -- UP\n",
        "    #     1 -- RIGHT\n",
        "    #     2 -- DOWN\n",
        "    #     3 -- LEFT\n",
        "    # perform the given action and get update the  self.state, get reward, and update the self.board according to new state\n",
        "\n",
        "    # Write your code here ----------\n",
        "\n",
        "    if(action == 0):\n",
        "      if(self.state[0] != 0):\n",
        "        self.state = (self.state[0] - 1, self.state[1])\n",
        "    elif(action == 1):\n",
        "      if(self.state[1] != (self.N-1)):\n",
        "        self.state = (self.state[0], self.state[1] + 1)\n",
        "    elif(action == 2):\n",
        "      if(self.state[0] != (self.N-1)):\n",
        "        self.state = (self.state[0] + 1, self.state[1])\n",
        "    elif(action == 3):\n",
        "      if(self.state[1] != 0):\n",
        "        self.state = (self.state[0], self.state[1] - 1)\n",
        "\n",
        "    reward = self.reward[self.state[0], self.state[1]]\n",
        "\n",
        "    self.board[self.state[0]][self.state[1]] = b'*' # mark visited\n",
        "\n",
        "    # -------------------------------\n",
        "    \n",
        "    # status to check if you reached your goal\n",
        "    if self.state == (self.N-1, self.N-1):\n",
        "        self.finish = 1\n",
        "        \n",
        "    return self.state, reward, self.finish\n",
        "  \n",
        "  def get_random_action(self):\n",
        "    # ===== Action Table =========\n",
        "    #     0 -- UP\n",
        "    #     1 -- RIGHT\n",
        "    #     2 -- DOWN\n",
        "    #     3 -- LEFT\n",
        "    # should return a possible random action out of the four\n",
        "    # hint: note that when you are around the corner or sides of the board not all four action will be available for you\n",
        "\n",
        "    # Write your code here ----------\n",
        "  \n",
        "    if(self.state[0] == 0):\n",
        "      if(self.state[1] == 0):\n",
        "        action = np.random.choice([1,2])\n",
        "      elif(self.state[1] == (self.N-1)):\n",
        "        action = np.random.choice([2,3])\n",
        "      else:\n",
        "        action = np.random.choice([1,2,3])\n",
        "    elif(self.state[0] == (self.N-1)):\n",
        "      if(self.state[1] == 0):\n",
        "        action = np.random.choice([0,1])\n",
        "      elif(self.state[1] == (self.N-1)):\n",
        "        action = np.random.choice([0,3])\n",
        "      else:\n",
        "        action = np.random.choice([0,1,3])\n",
        "    elif(self.state[1] == 0):\n",
        "        action = np.random.choice([0,1,2])\n",
        "    elif(self.state[1] == (self.N-1)):\n",
        "        action = np.random.choice([0,2,3])\n",
        "    else:\n",
        "      action = np.random.choice([0,1,2,3])   # all four actions available\n",
        "    \n",
        "    # -------------------------------\n",
        "\n",
        "    return action    \n",
        "      \n",
        "  def display(self):\n",
        "    print(self.board)"
      ],
      "execution_count": 0,
      "outputs": []
    },
    {
      "cell_type": "markdown",
      "metadata": {
        "id": "oizARLSBNMxB",
        "colab_type": "text"
      },
      "source": [
        "### Environment creation and learning"
      ]
    },
    {
      "cell_type": "code",
      "metadata": {
        "id": "yGXRU7ImRnT6",
        "colab_type": "code",
        "colab": {}
      },
      "source": [
        "def explore_exploit(env, Q, state, episode):\n",
        "  # Recall from the video there are two way how you perform an action in Value Learning\n",
        "  # They are called explore or exploit?\n",
        "  # Notice that if you always select your new action based on maximum Q-value you will never get to see any new path right?\n",
        "  # You have to explore the environment to know new paths\n",
        "  # Write your code here to randomly select whether you want to explore or exploit\n",
        "  # The probability of exploration should be exp(-episode*5e-4)\n",
        "  # for exploration get some random action\n",
        "  # for exploitation get action based on max Q value\n",
        "\n",
        "  # Write your code here ----------\n",
        "\n",
        "  explore_prob = np.exp(-episode*5e-4)\n",
        "  explore_or_exploit = np.random.choice([0,1], p=[explore_prob, 1-explore_prob])\n",
        "  \n",
        "  if(explore_or_exploit == 0):\n",
        "    action = env.get_random_action()\n",
        "  else:\n",
        "    action = np.argmax(Q[state[0], state[1], :])\n",
        "\n",
        "  # -------------------------------\n",
        "\n",
        "  return action"
      ],
      "execution_count": 0,
      "outputs": []
    },
    {
      "cell_type": "code",
      "metadata": {
        "id": "N6ym5P3-LxOz",
        "colab_type": "code",
        "colab": {}
      },
      "source": [
        "def init_env_and_learn(N=6, M=12, gamma=0.8, lr=0.8):\n",
        "  # gamma: gamma param of total discounted reward\n",
        "  # lr: learning rate for Q updates\n",
        "  # N = grid size of frozen lake wil be N x N\n",
        "  # M = Number of holes\n",
        "  # returns env, Q-function, rewards\n",
        "\n",
        "  env = FrozenLake(N, M)\n",
        "  Q = np.zeros((N, N, 4))\n",
        "\n",
        "  total_episodes = 3000 # i.e. the number of times your RL agent will run through the board.\n",
        "  max_steps = N*N*3 # maximum number of steps to perform\n",
        "\n",
        "  rewards = []\n",
        "  for episode in range(total_episodes):\n",
        "    state = env.reset()\n",
        "    total_rewards = 0\n",
        "\n",
        "    for step in range(max_steps):\n",
        "      action = explore_exploit(env, Q, state, episode)\n",
        "      # print(action)\n",
        "\n",
        "      # Write your code here ----------------------------------------------------------\n",
        "      # Should perform the action get reward, new_state, finish status and update the Q value\n",
        "      \n",
        "      predict = Q[state[0], state[1], action]\n",
        "\n",
        "      new_state, reward, finish = env.step(action)\n",
        "\n",
        "      target = reward + gamma * np.max(Q[new_state[0], new_state[1], :])\n",
        "\n",
        "      Q[state[0], state[1], action] = Q[state[0], state[1], action] + lr * (target - predict)\n",
        "\n",
        "      # reward = '...' # replace these with your values\n",
        "      # finish = '...' # replace these with your values\n",
        "      # new_state = '...' # replace these with your values\n",
        "      # -------------------------------------------------------------------------------\n",
        "\n",
        "      total_rewards += reward\n",
        "      state = new_state\n",
        "      \n",
        "      if finish == 1: \n",
        "          break\n",
        "\n",
        "    rewards.append(total_rewards)\n",
        "\n",
        "  return env, Q, rewards"
      ],
      "execution_count": 0,
      "outputs": []
    },
    {
      "cell_type": "code",
      "metadata": {
        "id": "6z8EuJ6sXCTK",
        "colab_type": "code",
        "colab": {}
      },
      "source": [
        "def travel_path(env, Q):\n",
        "  # write a function to display a sequence of path performed using the learned Q-values\n",
        "  # show initial and final frozen lake board \n",
        "  # to perform an action at a state simply take max of Q at that state\n",
        "\n",
        "  # Write your code here ----------\n",
        "  \n",
        "  state = env.reset()\n",
        "  print(\"Initial Board\")\n",
        "  env.display()\n",
        "\n",
        "  finish = False\n",
        "  while(not finish):\n",
        "    action = np.argmax(Q[state[0], state[1], :])\n",
        "    state, _, finish = env.step(action)\n",
        "\n",
        "  print(\"\\nPath Travelled:\")\n",
        "  env.display()\n",
        "\n",
        "  # -------------------------------\n",
        "\n",
        "  return"
      ],
      "execution_count": 0,
      "outputs": []
    },
    {
      "cell_type": "markdown",
      "metadata": {
        "id": "Ios3sB8ZYDTN",
        "colab_type": "text"
      },
      "source": [
        "### Use N = 6, M = 10 and learn the models for following sets of gamma and lr:\n",
        "\n",
        "*   `(gamma, lr) = (0.8, 0.8)`\n",
        "*   `(gamma, lr) = (0.95, 0.8)`\n",
        "*   `(gamma, lr) = (0.6, 0.8)`\n",
        "*   `(gamma, lr) = (0.8, 0.95)`\n",
        "*   `(gamma, lr) = (0.8, 0.1)`\n",
        "\n",
        "Plot rewards vs episode for each of them and compare.\n",
        "\n"
      ]
    },
    {
      "cell_type": "code",
      "metadata": {
        "id": "1BB8d1_3MhsL",
        "colab_type": "code",
        "colab": {
          "base_uri": "https://localhost:8080/",
          "height": 1000
        },
        "outputId": "e736ec3c-f346-4092-dbc6-9ac3e4118afa"
      },
      "source": [
        "# Write your code here ----------\n",
        "\n",
        "import time\n",
        "\n",
        "start = time.time()\n",
        "env, Q, rewards = init_env_and_learn(N=6, M=10)\n",
        "end = time.time()\n",
        "print(\"time to train: {}, average reward: {}\".format(end-start, sum(rewards)/len(rewards)))\n",
        "\n",
        "plt.figure(0)\n",
        "plt.scatter(range(len(rewards)), rewards)\n",
        "plt.xlabel('Episode')\n",
        "plt.ylabel('Reward')\n",
        "plt.show()\n",
        "\n",
        "start = time.time()\n",
        "env, Q, rewards = init_env_and_learn(N=6, M=10, gamma=0.95, lr=0.8)\n",
        "end = time.time()\n",
        "print(\"time to train: {}, average reward: {}\".format(end-start, sum(rewards)/len(rewards)))\n",
        "\n",
        "\n",
        "plt.figure(1)\n",
        "plt.scatter(range(len(rewards)), rewards)\n",
        "plt.xlabel('Episode')\n",
        "plt.ylabel('Reward')\n",
        "plt.show()\n",
        "\n",
        "start = time.time()\n",
        "env, Q, rewards = init_env_and_learn(N=6, M=10, gamma=0.6, lr=0.8)\n",
        "end = time.time()\n",
        "print(\"time to train: {}, average reward: {}\".format(end-start, sum(rewards)/len(rewards)))\n",
        "\n",
        "plt.figure(2)\n",
        "plt.scatter(range(len(rewards)), rewards)\n",
        "plt.xlabel('Episode')\n",
        "plt.ylabel('Reward')\n",
        "plt.show()\n",
        "\n",
        "start = time.time()\n",
        "env, Q, rewards = init_env_and_learn(N=6, M=10, gamma=0.8, lr=0.95)\n",
        "end = time.time()\n",
        "print(\"time to train: {}, average reward: {}\".format(end-start, sum(rewards)/len(rewards)))\n",
        "\n",
        "plt.figure(3)\n",
        "plt.scatter(range(len(rewards)), rewards)\n",
        "plt.xlabel('Episode')\n",
        "plt.ylabel('Reward')\n",
        "plt.show()\n",
        "\n",
        "start = time.time()\n",
        "env, Q, rewards = init_env_and_learn(N=6, M=10, gamma=0.8, lr=0.1)\n",
        "end = time.time()\n",
        "print(\"time to train: {}, average reward: {}\".format(end-start, sum(rewards)/len(rewards)))\n",
        "\n",
        "\n",
        "plt.figure(4)\n",
        "plt.scatter(range(len(rewards)), rewards)\n",
        "plt.xlabel('Episode')\n",
        "plt.ylabel('Reward')\n",
        "plt.show()\n",
        "\n",
        "# -------------------------------\n",
        "\n",
        "print(\"Replace this with your observation\")"
      ],
      "execution_count": 140,
      "outputs": [
        {
          "output_type": "stream",
          "text": [
            "time to train: 7.116896867752075, average reward: -244.58333333333334\n"
          ],
          "name": "stdout"
        },
        {
          "output_type": "display_data",
          "data": {
            "image/png": "[encoded data removed]",
            "text/plain": [
              "<Figure size 432x288 with 1 Axes>"
            ]
          },
          "metadata": {
            "tags": []
          }
        },
        {
          "output_type": "stream",
          "text": [
            "time to train: 6.4268200397491455, average reward: -97.71666666666667\n"
          ],
          "name": "stdout"
        },
        {
          "output_type": "display_data",
          "data": {
            "image/png": "[encoded data removed]",
            "text/plain": [
              "<Figure size 432x288 with 1 Axes>"
            ]
          },
          "metadata": {
            "tags": []
          }
        },
        {
          "output_type": "stream",
          "text": [
            "time to train: 6.781954526901245, average reward: -120.85\n"
          ],
          "name": "stdout"
        },
        {
          "output_type": "display_data",
          "data": {
            "image/png": "[encoded data removed]",
            "text/plain": [
              "<Figure size 432x288 with 1 Axes>"
            ]
          },
          "metadata": {
            "tags": []
          }
        },
        {
          "output_type": "stream",
          "text": [
            "time to train: 7.543943881988525, average reward: -191.5\n"
          ],
          "name": "stdout"
        },
        {
          "output_type": "display_data",
          "data": {
            "image/png": "[encoded data removed]",
            "text/plain": [
              "<Figure size 432x288 with 1 Axes>"
            ]
          },
          "metadata": {
            "tags": []
          }
        },
        {
          "output_type": "stream",
          "text": [
            "time to train: 22.55101442337036, average reward: -596.9\n"
          ],
          "name": "stdout"
        },
        {
          "output_type": "display_data",
          "data": {
            "image/png": "[encoded data removed]",
            "text/plain": [
              "<Figure size 432x288 with 1 Axes>"
            ]
          },
          "metadata": {
            "tags": []
          }
        },
        {
          "output_type": "stream",
          "text": [
            "Replace this with your observation\n"
          ],
          "name": "stdout"
        }
      ]
    },
    {
      "cell_type": "markdown",
      "metadata": {
        "id": "yI5oHjVbZkIW",
        "colab_type": "text"
      },
      "source": [
        "### Use N = 6, M = 10 and learn a models with (gamma, lr) = (0.8, 0.8)\n",
        "After learning the model, display a path traveled from source to goal."
      ]
    },
    {
      "cell_type": "code",
      "metadata": {
        "id": "RtDOaUEeMi-0",
        "colab_type": "code",
        "colab": {
          "base_uri": "https://localhost:8080/",
          "height": 278
        },
        "outputId": "9c9cdcd9-ebe4-4dd4-ccbf-29ae74c67a37"
      },
      "source": [
        "# Write your code here ----------\n",
        "\n",
        "env, Q, _ = init_env_and_learn(N=6, M=10)\n",
        "travel_path(env, Q)\n",
        "\n",
        "# -------------------------------"
      ],
      "execution_count": 141,
      "outputs": [
        {
          "output_type": "stream",
          "text": [
            "Initial Board\n",
            "[[b'S' b'H' b'H' b'F' b'F' b'F']\n",
            " [b'F' b'F' b'F' b'F' b'F' b'H']\n",
            " [b'F' b'H' b'H' b'F' b'F' b'H']\n",
            " [b'F' b'F' b'F' b'H' b'F' b'F']\n",
            " [b'H' b'F' b'H' b'F' b'F' b'F']\n",
            " [b'F' b'H' b'F' b'F' b'F' b'G']]\n",
            "Path Travelled: \n",
            "\n",
            "[[b'S' b'H' b'H' b'F' b'F' b'F']\n",
            " [b'*' b'*' b'*' b'*' b'*' b'H']\n",
            " [b'F' b'H' b'H' b'F' b'*' b'H']\n",
            " [b'F' b'F' b'F' b'H' b'*' b'*']\n",
            " [b'H' b'F' b'H' b'F' b'F' b'*']\n",
            " [b'F' b'H' b'F' b'F' b'F' b'*']]\n"
          ],
          "name": "stdout"
        }
      ]
    },
    {
      "cell_type": "code",
      "metadata": {
        "id": "7NEUVwb4Kc98",
        "colab_type": "code",
        "outputId": "ee6a2039-3f04-4864-8284-20cc6a41846f",
        "colab": {
          "base_uri": "https://localhost:8080/",
          "height": 34
        }
      },
      "source": [
        ""
      ],
      "execution_count": 0,
      "outputs": [
        {
          "output_type": "stream",
          "text": [
            "/content\n"
          ],
          "name": "stdout"
        }
      ]
    }
  ]
}